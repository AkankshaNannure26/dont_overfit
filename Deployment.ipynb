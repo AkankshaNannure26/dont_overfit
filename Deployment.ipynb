{
  "nbformat": 4,
  "nbformat_minor": 0,
  "metadata": {
    "colab": {
      "provenance": []
    },
    "kernelspec": {
      "name": "python3",
      "display_name": "Python 3"
    },
    "language_info": {
      "name": "python"
    }
  },
  "cells": [
    {
      "cell_type": "markdown",
      "source": [
        "#Import libraries"
      ],
      "metadata": {
        "id": "UuKeLt59CTHV"
      }
    },
    {
      "cell_type": "markdown",
      "source": [
        "Reference:https://machinelearningmastery.com/save-load-machine-learning-models-python-scikit-learn/"
      ],
      "metadata": {
        "id": "ISiWtzW1gUn6"
      }
    },
    {
      "cell_type": "code",
      "execution_count": 1,
      "metadata": {
        "id": "WJWKOG50AjjI"
      },
      "outputs": [],
      "source": [
        "import warnings\n",
        "warnings.filterwarnings('ignore')\n",
        "import pandas as pd\n",
        "import numpy as np\n",
        "import joblib\n",
        "import os\n",
        "from sklearn.metrics import  roc_auc_score"
      ]
    },
    {
      "cell_type": "markdown",
      "source": [
        "#Import Data"
      ],
      "metadata": {
        "id": "5L9HCqP6CWP0"
      }
    },
    {
      "cell_type": "code",
      "source": [
        "train = pd.read_csv('/content/drive/MyDrive/CasestudiesAAIC/self case study12/train.csv')\n",
        "test = pd.read_csv('/content/drive/MyDrive/CasestudiesAAIC/self case study12/test.csv')\n",
        "submission = pd.read_csv('/content/drive/MyDrive/CasestudiesAAIC/self case study12/sample_submission.csv')\n",
        "print(train.shape)\n",
        "print(test.shape)\n",
        "print(submission.shape)"
      ],
      "metadata": {
        "colab": {
          "base_uri": "https://localhost:8080/"
        },
        "id": "DDOIELASCGfT",
        "outputId": "50f82b5c-caec-4acc-f6c0-12c8aacd829d"
      },
      "execution_count": 2,
      "outputs": [
        {
          "output_type": "stream",
          "name": "stdout",
          "text": [
            "(250, 302)\n",
            "(19750, 301)\n",
            "(19750, 2)\n"
          ]
        }
      ]
    },
    {
      "cell_type": "code",
      "source": [
        "def feature_enng(df):\n",
        "    temp = df\n",
        "\n",
        "    # Mean and Std FE\n",
        "    df['mean'] = np.mean(temp, axis=1)\n",
        "    df['std'] = np.std(temp, axis=1)\n",
        "\n",
        "    # Trigometric FE\n",
        "    sin_temp = np.sin(temp)\n",
        "    cos_temp = np.cos(temp)\n",
        "    tan_temp = np.tan(temp)\n",
        "    df['mean_sin'] = np.mean(sin_temp, axis=1)\n",
        "    df['mean_cos'] = np.mean(cos_temp, axis=1)\n",
        "    df['mean_tan'] = np.mean(tan_temp, axis=1)\n",
        "\n",
        "    # Hyperbolic FE\n",
        "    sinh_temp = np.sinh(temp)\n",
        "    cosh_temp = np.cosh(temp)\n",
        "    tanh_temp = np.tanh(temp)\n",
        "    df['mean_sinh'] = np.mean(sin_temp, axis=1)\n",
        "    df['mean_cosh'] = np.mean(cos_temp, axis=1)\n",
        "    df['mean_tanh'] = np.mean(tan_temp, axis=1)\n",
        "\n",
        "    # Exponents FE\n",
        "    exp_temp = np.exp(temp)\n",
        "    expm1_temp = np.expm1(temp)\n",
        "    exp2_temp = np.exp2(temp)\n",
        "    df['mean_exp'] = np.mean(exp_temp, axis=1)\n",
        "    df['mean_expm1'] = np.mean(expm1_temp, axis=1)\n",
        "    df['mean_exp2'] = np.mean(exp2_temp, axis=1)\n",
        "\n",
        "    # Polynomial FE\n",
        "    # X**2\n",
        "    df['mean_x2'] = np.mean(np.power(temp,2), axis=1)\n",
        "    # X**3\n",
        "    df['mean_x3'] = np.mean(np.power(temp,3), axis=1)\n",
        "    # X**4\n",
        "    df['mean_x4'] = np.mean(np.power(temp,4), axis=1)\n",
        "\n",
        "    return df"
      ],
      "metadata": {
        "id": "h4GvMDB5X3QW"
      },
      "execution_count": 3,
      "outputs": []
    },
    {
      "cell_type": "code",
      "source": [
        "df_train = pd.read_csv('/content/drive/MyDrive/CasestudiesAAIC/self case study12/train.csv')\n",
        "df_test = pd.read_csv('/content/drive/MyDrive/CasestudiesAAIC/self case study12//test.csv')\n",
        "df_train_fe=feature_enng(df_train.drop(['id','target'],axis=1))\n",
        "test=feature_enng(df_test.drop(['id'],axis=1))\n",
        "X = df_train_fe\n",
        "y = df_train['target']\n",
        "print(X.shape, y.shape)\n",
        "print(test.shape)"
      ],
      "metadata": {
        "colab": {
          "base_uri": "https://localhost:8080/"
        },
        "id": "E3b_vymvX4Aw",
        "outputId": "9b6c95ef-bf0e-4880-d8c1-8d773558de8f"
      },
      "execution_count": 4,
      "outputs": [
        {
          "output_type": "stream",
          "name": "stdout",
          "text": [
            "(250, 314) (250,)\n",
            "(19750, 314)\n"
          ]
        }
      ]
    },
    {
      "cell_type": "markdown",
      "source": [
        "#Final function1"
      ],
      "metadata": {
        "id": "O9QJzn_pCiLT"
      }
    },
    {
      "cell_type": "code",
      "source": [
        "def final_fun_1(X):\n",
        "    scale = joblib.load('/content/drive/MyDrive/CasestudiesAAIC/self case study12scaling/scaling_preprocessmodel.sav')\n",
        "    X = scale.transform(X)\n",
        "    clf = joblib.load('/content/drive/MyDrive/CasestudiesAAIC/self case study12/Baseline_fe_LRmodel.sav')\n",
        "    pred=clf.predict_proba(X)[:,1]\n",
        "    return pred\n",
        "final_fun_1(test)"
      ],
      "metadata": {
        "colab": {
          "base_uri": "https://localhost:8080/"
        },
        "id": "NKa6YsdGCKKE",
        "outputId": "0e7f26e6-170e-42b0-a5f2-41af959ffe79"
      },
      "execution_count": 5,
      "outputs": [
        {
          "output_type": "execute_result",
          "data": {
            "text/plain": [
              "array([0.8101856 , 0.69150586, 0.67680676, ..., 0.52539713, 0.86680996,\n",
              "       0.35337282])"
            ]
          },
          "metadata": {},
          "execution_count": 5
        }
      ]
    },
    {
      "cell_type": "markdown",
      "source": [
        "#Final Function2"
      ],
      "metadata": {
        "id": "EfpP_L5JClh9"
      }
    },
    {
      "cell_type": "code",
      "source": [
        "def final_fun_2(X,Y):\n",
        "    Y_pred = final_fun_1(X)\n",
        "    score = roc_auc_score(Y, Y_pred)\n",
        "    return score\n",
        "final_fun_2(X,y)"
      ],
      "metadata": {
        "id": "ww6_W_N_COKi",
        "colab": {
          "base_uri": "https://localhost:8080/"
        },
        "outputId": "a54a7073-03cb-4068-8ea3-17cd4491e425"
      },
      "execution_count": 6,
      "outputs": [
        {
          "output_type": "execute_result",
          "data": {
            "text/plain": [
              "0.954722222222222"
            ]
          },
          "metadata": {},
          "execution_count": 6
        }
      ]
    }
  ]
}